{
 "cells": [
  {
   "cell_type": "code",
   "execution_count": 211,
   "metadata": {},
   "outputs": [],
   "source": [
    "import torch\n",
    "import torch.nn as nn # for nn.Module\n",
    "import torch.nn.functional as F # for sigmoid activation function\n",
    "import numpy as np # for numpy arrays\n",
    "import matplotlib.pyplot as plt\n",
    "from torch.autograd import Variable"
   ]
  },
  {
   "cell_type": "code",
   "execution_count": 204,
   "metadata": {},
   "outputs": [
    {
     "data": {
      "text/plain": [
       "<matplotlib.image.AxesImage at 0x1f30c3a5ef0>"
      ]
     },
     "execution_count": 204,
     "metadata": {},
     "output_type": "execute_result"
    },
    {
     "data": {
      "image/png": "[encoded data removed]",
      "text/plain": [
       "<Figure size 432x288 with 1 Axes>"
      ]
     },
     "metadata": {
      "needs_background": "light"
     },
     "output_type": "display_data"
    }
   ],
   "source": [
    "# m x n matrices, m = rows n = cols\n",
    "# testing out 32x32 with (0,0,0) for RGB values\n",
    "\n",
    "test1 = np.zeros((32,32,3))\n",
    "plt.imshow(test1)"
   ]
  },
  {
   "cell_type": "code",
   "execution_count": 104,
   "metadata": {},
   "outputs": [
    {
     "data": {
      "text/plain": [
       "<matplotlib.image.AxesImage at 0x1f2f331a5f8>"
      ]
     },
     "execution_count": 104,
     "metadata": {},
     "output_type": "execute_result"
    },
    {
     "data": {
      "image/png": "[encoded data removed]",
      "text/plain": [
       "<Figure size 432x288 with 1 Axes>"
      ]
     },
     "metadata": {
      "needs_background": "light"
     },
     "output_type": "display_data"
    }
   ],
   "source": [
    "# testing out 32x32 with randomly generated RGB values in each pixel\n",
    "\n",
    "test2 = np.random.rand(32,32,3)\n",
    "plt.imshow(test2)"
   ]
  },
  {
   "cell_type": "code",
   "execution_count": 208,
   "metadata": {},
   "outputs": [
    {
     "data": {
      "text/plain": [
       "<matplotlib.image.AxesImage at 0x1f30c51d320>"
      ]
     },
     "execution_count": 208,
     "metadata": {},
     "output_type": "execute_result"
    },
    {
     "data": {
      "image/png": "[encoded data removed]",
      "text/plain": [
       "<Figure size 432x288 with 1 Axes>"
      ]
     },
     "metadata": {
      "needs_background": "light"
     },
     "output_type": "display_data"
    }
   ],
   "source": [
    "test3_np = np.random.rand(3,3,3)\n",
    "\n",
    "test3_shape = test3.shape\n",
    "\n",
    "# converting numpy array to torch tensor - however, for loop breaks\n",
    "test3_py = torch.from_numpy(test3_np)\n",
    "\n",
    "for epoch in range(100):\n",
    "    #r_data = np.random.rand(1)\n",
    "    #g_data = np.random.rand(1)\n",
    "    #b_data = np.random.rand(1)\n",
    "    r_data = torch.rand(1)\n",
    "    g_data = torch.rand(1)\n",
    "    b_data = torch.rand(1)\n",
    "    for r,g,b in zip(r_data, g_data, b_data):\n",
    "        for i in range(test3_shape[0]):\n",
    "            for j in range(test3_shape[1]):\n",
    "                test3[i,j,0] = r\n",
    "                test3[i,j,1] = g\n",
    "                test3[i,j,2] = b\n",
    "    #print (test3)\n",
    "    #print (\"--------------------------------------------\")\n",
    "    \n",
    "plt.imshow(test3)"
   ]
  },
  {
   "cell_type": "code",
   "execution_count": 232,
   "metadata": {},
   "outputs": [
    {
     "name": "stderr",
     "output_type": "stream",
     "text": [
      "Clipping input data to the valid range for imshow with RGB data ([0..1] for floats or [0..255] for integers).\n"
     ]
    },
    {
     "data": {
      "text/plain": [
       "<matplotlib.image.AxesImage at 0x1f30c79a208>"
      ]
     },
     "execution_count": 232,
     "metadata": {},
     "output_type": "execute_result"
    },
    {
     "data": {
      "image/png": "[encoded data removed]",
      "text/plain": [
       "<Figure size 432x288 with 1 Axes>"
      ]
     },
     "metadata": {
      "needs_background": "light"
     },
     "output_type": "display_data"
    }
   ],
   "source": [
    "# make red 32x32\n",
    "\n",
    "red = np.zeros((32,32,3))\n",
    "\n",
    "red_x_axis = red.shape[0]\n",
    "red_y_axis = red.shape[1]\n",
    "\n",
    "for i in range(red_x_axis):\n",
    "            for j in range(red_y_axis):\n",
    "                red[i,j,0] = 255\n",
    "                red[i,j,1] = 0\n",
    "                red[i,j,2] = 0\n",
    "                \n",
    "plt.imshow(red)"
   ]
  },
  {
   "cell_type": "code",
   "execution_count": 233,
   "metadata": {},
   "outputs": [
    {
     "name": "stderr",
     "output_type": "stream",
     "text": [
      "Clipping input data to the valid range for imshow with RGB data ([0..1] for floats or [0..255] for integers).\n"
     ]
    },
    {
     "data": {
      "text/plain": [
       "<matplotlib.image.AxesImage at 0x1f30c7f8198>"
      ]
     },
     "execution_count": 233,
     "metadata": {},
     "output_type": "execute_result"
    },
    {
     "data": {
      "image/png": "[encoded data removed]",
      "text/plain": [
       "<Figure size 432x288 with 1 Axes>"
      ]
     },
     "metadata": {
      "needs_background": "light"
     },
     "output_type": "display_data"
    }
   ],
   "source": [
    "# make green 32x32\n",
    "\n",
    "green = np.zeros((32,32,3))\n",
    "\n",
    "green_x_axis = green.shape[0]\n",
    "green_y_axis = green.shape[1]\n",
    "\n",
    "for i in range(green_x_axis):\n",
    "            for j in range(green_y_axis):\n",
    "                green[i,j,0] = 0\n",
    "                green[i,j,1] = 255\n",
    "                green[i,j,2] = 0\n",
    "                \n",
    "plt.imshow(green)"
   ]
  },
  {
   "cell_type": "code",
   "execution_count": 236,
   "metadata": {
    "scrolled": true
   },
   "outputs": [
    {
     "name": "stderr",
     "output_type": "stream",
     "text": [
      "Clipping input data to the valid range for imshow with RGB data ([0..1] for floats or [0..255] for integers).\n"
     ]
    },
    {
     "data": {
      "image/png": "[encoded data removed]",
      "text/plain": [
       "<Figure size 432x288 with 1 Axes>"
      ]
     },
     "metadata": {
      "needs_background": "light"
     },
     "output_type": "display_data"
    }
   ],
   "source": [
    "# make blue 32x32\n",
    "\n",
    "blue = np.zeros((32,32,3))\n",
    "\n",
    "blue_x_axis = blue.shape[0]\n",
    "blue_y_axis = blue.shape[1]\n",
    "\n",
    "for i in range(blue_x_axis):\n",
    "            for j in range(blue_y_axis):\n",
    "                blue[i,j,0] = 0\n",
    "                blue[i,j,1] = 0\n",
    "                blue[i,j,2] = 255\n",
    "                \n",
    "plt.imshow(blue)\n",
    "\n",
    "blue_torch = torch.from_numpy(blue)"
   ]
  },
  {
   "cell_type": "code",
   "execution_count": 237,
   "metadata": {},
   "outputs": [],
   "source": [
    "# 0 for white text, 1 for black text\n",
    "\n",
    "x_data = torch.tensor([[0,0,255],[255,0,0],[0,255,0]])\n",
    "y_data = torch.tensor([[0],[0],[1]])"
   ]
  },
  {
   "cell_type": "code",
   "execution_count": 216,
   "metadata": {},
   "outputs": [],
   "source": [
    "class Net(nn.Module): # nn.Module is the parent class\n",
    "    def __init__(self):\n",
    "        super(Net,self).__init__() # super used to pass arguments of child class to parent class\n",
    "        self.linear = nn.Linear(3,1) # 32x32 input = 1024\n",
    "        \n",
    "    def __forward__(self,x):\n",
    "        y_pred = F.sigmoid(self.linear(x)) # wrap linear input with sigmoid\n",
    "        \n",
    "        return y_pred\n",
    "        \n",
    "# our model\n",
    "net = Net()"
   ]
  },
  {
   "cell_type": "code",
   "execution_count": 217,
   "metadata": {},
   "outputs": [],
   "source": [
    "criterion = torch.nn.BCELoss(size_average=True) # binary cross entropy loss\n",
    "optimizer = torch.optim.SGD(net.parameters(), lr=0.01) # learning rate 0.01"
   ]
  },
  {
   "cell_type": "code",
   "execution_count": null,
   "metadata": {},
   "outputs": [],
   "source": [
    "# training lop\n",
    "for epoch in range(1000):\n",
    "    y_pred = net(x_data)\n",
    "    \n",
    "# compute and print loss\n",
    "loss = criterion(y_pred,y_data)\n",
    "print (epoch, loss.data[0])\n",
    "\n",
    "# zero the gradients, perform backward pass, and update the weights\n",
    "optimizer.zero_grad()\n",
    "loss.backward()\n",
    "optimizer.step()\n"
   ]
  },
  {
   "cell_type": "code",
   "execution_count": null,
   "metadata": {},
   "outputs": [],
   "source": []
  }
 ],
 "metadata": {
  "kernelspec": {
   "display_name": "Python 3",
   "language": "python",
   "name": "python3"
  },
  "language_info": {
   "codemirror_mode": {
    "name": "ipython",
    "version": 3
   },
   "file_extension": ".py",
   "mimetype": "text/x-python",
   "name": "python",
   "nbconvert_exporter": "python",
   "pygments_lexer": "ipython3",
   "version": "3.7.1"
  }
 },
 "nbformat": 4,
 "nbformat_minor": 2
}
