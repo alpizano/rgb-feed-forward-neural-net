{
 "cells": [
  {
   "cell_type": "code",
   "execution_count": 96,
   "metadata": {},
   "outputs": [],
   "source": [
    "import torch\n",
    "import numpy as np\n",
    "import matplotlib.pyplot as plt\n"
   ]
  },
  {
   "cell_type": "code",
   "execution_count": 97,
   "metadata": {},
   "outputs": [
    {
     "name": "stdout",
     "output_type": "stream",
     "text": [
      "tensor([0.2045, 0.5849, 0.1461, 0.9864, 0.1415, 0.4008, 0.1654, 0.3230, 0.0768,\n",
      "        0.1470])\n",
      "tensor([0.4532, 0.8960, 0.6107, 0.2260, 0.0502, 0.0015, 0.6959, 0.3802, 0.2117,\n",
      "        0.3017])\n",
      "tensor([0.2355, 0.9290, 0.4984, 0.9560, 0.9352, 0.0290, 0.0138, 0.1101, 0.9900,\n",
      "        0.8344])\n",
      "Fuck you\n"
     ]
    }
   ],
   "source": [
    "# m x n matrices, m = rows n = cols\n",
    "\n",
    "r = torch.rand(10)\n",
    "g = torch.rand(10)\n",
    "b = torch.rand(10)\n",
    "\n",
    "print (r)\n",
    "print (g)\n",
    "print (b)\n",
    "print (\"Fuck you\")\n",
    "\n",
    "#print (test1)\n",
    "#print (test2)\n"
   ]
  },
  {
   "cell_type": "code",
   "execution_count": 98,
   "metadata": {},
   "outputs": [
    {
     "data": {
      "text/plain": [
       "<matplotlib.image.AxesImage at 0x1f2f30d9940>"
      ]
     },
     "execution_count": 98,
     "metadata": {},
     "output_type": "execute_result"
    },
    {
     "data": {
      "image/png": "[encoded data removed]",
      "text/plain": [
       "<Figure size 432x288 with 1 Axes>"
      ]
     },
     "metadata": {
      "needs_background": "light"
     },
     "output_type": "display_data"
    }
   ],
   "source": [
    "test1 = np.zeros((32,32,3))\n",
    "plt.imshow(test1)"
   ]
  },
  {
   "cell_type": "code",
   "execution_count": 104,
   "metadata": {},
   "outputs": [
    {
     "data": {
      "text/plain": [
       "<matplotlib.image.AxesImage at 0x1f2f331a5f8>"
      ]
     },
     "execution_count": 104,
     "metadata": {},
     "output_type": "execute_result"
    },
    {
     "data": {
      "image/png": "[encoded data removed]",
      "text/plain": [
       "<Figure size 432x288 with 1 Axes>"
      ]
     },
     "metadata": {
      "needs_background": "light"
     },
     "output_type": "display_data"
    }
   ],
   "source": [
    "test2 = np.random.rand(32,32,3)\n",
    "plt.imshow(test2)"
   ]
  },
  {
   "cell_type": "code",
   "execution_count": 99,
   "metadata": {},
   "outputs": [
    {
     "name": "stderr",
     "output_type": "stream",
     "text": [
      "Clipping input data to the valid range for imshow with RGB data ([0..1] for floats or [0..255] for integers).\n"
     ]
    },
    {
     "data": {
      "text/plain": [
       "<matplotlib.image.AxesImage at 0x1f2f3140128>"
      ]
     },
     "execution_count": 99,
     "metadata": {},
     "output_type": "execute_result"
    },
    {
     "data": {
      "image/png": "[encoded data removed]",
      "text/plain": [
       "<Figure size 432x288 with 1 Axes>"
      ]
     },
     "metadata": {
      "needs_background": "light"
     },
     "output_type": "display_data"
    }
   ],
   "source": [
    "test2_shape = test2.shape\n",
    "\n",
    "#for i in range(test2_shape[0]):\n",
    "    #for j in range(test2_shape[1]):\n",
    "        #test2[i,j] = 0\n",
    "        \n",
    "for i in range(test2_shape[0]):\n",
    "    for j in range(test2_shape[1]):\n",
    "            test2[i,j,0] = 0\n",
    "            test2[i,j,1] = 0\n",
    "            test2[i,j,2] = 255\n",
    "            \n",
    "plt.imshow(test2)\n",
    "        "
   ]
  },
  {
   "cell_type": "code",
   "execution_count": 173,
   "metadata": {},
   "outputs": [
    {
     "data": {
      "image/png": "[encoded data removed]",
      "text/plain": [
       "<Figure size 432x288 with 1 Axes>"
      ]
     },
     "metadata": {
      "needs_background": "light"
     },
     "output_type": "display_data"
    }
   ],
   "source": [
    "test3 = np.random.rand(3,3,3)\n",
    "test3_shape = test3.shape\n",
    "\n",
    "\n",
    "\n",
    "for epoch in range(100):\n",
    "    r_data = np.random.rand(1)\n",
    "    g_data = np.random.rand(1)\n",
    "    b_data = np.random.rand(1)\n",
    "    for r,g,b in zip(r_data, g_data, b_data):\n",
    "        for i in range(test3_shape[0]):\n",
    "            for j in range(test3_shape[1]):\n",
    "                test3[i,j,0] = r\n",
    "                test3[i,j,1] = g\n",
    "                test3[i,j,2] = b\n",
    "    #print (test3)\n",
    "    #print (\"--------------------------------------------\")\n",
    "    \n",
    "plt.imshow(test3)"
   ]
  },
  {
   "cell_type": "code",
   "execution_count": 169,
   "metadata": {},
   "outputs": [
    {
     "ename": "SyntaxError",
     "evalue": "unexpected EOF while parsing (<ipython-input-169-3b09465afb9f>, line 5)",
     "output_type": "error",
     "traceback": [
      "\u001b[1;36m  File \u001b[1;32m\"<ipython-input-169-3b09465afb9f>\"\u001b[1;36m, line \u001b[1;32m5\u001b[0m\n\u001b[1;33m    \u001b[0m\n\u001b[1;37m    ^\u001b[0m\n\u001b[1;31mSyntaxError\u001b[0m\u001b[1;31m:\u001b[0m unexpected EOF while parsing\n"
     ]
    }
   ],
   "source": [
    "class Net(nn.Module): # nn.Module is the parent class\n",
    "    def __init__(self,input_size,hidden_size,output_size):\n",
    "        super(Net,self).__init__() # super used to pass arguments of child class to parent class\n",
    "    def __forward__(self,input):\n",
    "        "
   ]
  },
  {
   "cell_type": "code",
   "execution_count": null,
   "metadata": {},
   "outputs": [],
   "source": []
  },
  {
   "cell_type": "code",
   "execution_count": null,
   "metadata": {},
   "outputs": [],
   "source": []
  }
 ],
 "metadata": {
  "kernelspec": {
   "display_name": "Python 3",
   "language": "python",
   "name": "python3"
  },
  "language_info": {
   "codemirror_mode": {
    "name": "ipython",
    "version": 3
   },
   "file_extension": ".py",
   "mimetype": "text/x-python",
   "name": "python",
   "nbconvert_exporter": "python",
   "pygments_lexer": "ipython3",
   "version": "3.7.1"
  }
 },
 "nbformat": 4,
 "nbformat_minor": 2
}
