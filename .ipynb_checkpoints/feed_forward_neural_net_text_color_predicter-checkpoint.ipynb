{
 "cells": [
  {
   "cell_type": "code",
   "execution_count": null,
   "metadata": {},
   "outputs": [],
   "source": [
    "import torch\n",
    "import numpy as np\n",
    "import matplotlib.pyplot as plt\n"
   ]
  },
  {
   "cell_type": "code",
   "execution_count": null,
   "metadata": {},
   "outputs": [],
   "source": [
    "# m x n matrices, m = rows n = cols\n",
    "\n",
    "r = torch.rand(10)\n",
    "g = torch.rand(10)\n",
    "b = torch.rand(10)\n",
    "\n",
    "test2 = np.random.rand(32,32,3)\n",
    "\n",
    "\n",
    "print (r)\n",
    "print (g)\n",
    "print (b)\n",
    "\n",
    "#print (test1)\n",
    "#print (test2)\n"
   ]
  },
  {
   "cell_type": "code",
   "execution_count": null,
   "metadata": {},
   "outputs": [],
   "source": [
    "test1 = np.zeros((32,32,3))\n",
    "plt.imshow(test1)"
   ]
  },
  {
   "cell_type": "code",
   "execution_count": null,
   "metadata": {},
   "outputs": [],
   "source": [
    "test2_shape = test2.shape\n",
    "\n",
    "#for i in range(test2_shape[0]):\n",
    "    #for j in range(test2_shape[1]):\n",
    "        #test2[i,j] = 0\n",
    "        \n",
    "for i in range(test2_shape[0]):\n",
    "    for j in range(test2_shape[1]):\n",
    "            test2[i,j,0] = 0\n",
    "            test2[i,j,1] = 0\n",
    "            test2[i,j,2] = 255\n",
    "            \n",
    "plt.imshow(test2)\n",
    "        "
   ]
  },
  {
   "cell_type": "code",
   "execution_count": null,
   "metadata": {},
   "outputs": [],
   "source": [
    "test3 = np.random.rand(32,32,3)\n",
    "test3_shape = test3.shape\n",
    "\n",
    "r_data = np.random.rand(1)\n",
    "g_data = np.random.rand(1)\n",
    "b_data = np.random.rand(1)\n",
    "\n",
    "for epoch in range(100):\n",
    "    for r,g,b in zip(r_data, g_data, b_data):\n",
    "        for i in range(test3_shape[0]):\n",
    "            for j in range(test3_shape[1]):\n",
    "                test3[i,j,0] = r\n",
    "                test3[i,j,1] = g\n",
    "                test3[i,j,2] = b\n",
    "\n",
    "                \n",
    "plt.imshow(test3)"
   ]
  },
  {
   "cell_type": "code",
   "execution_count": null,
   "metadata": {},
   "outputs": [],
   "source": [
    "class Net(nn.Module): # nn.Module is the parent class\n",
    "    def __init__(self,input_size,hidden_size,output_size):\n",
    "        super(Net,self).__init__() # super used to pass arguments of child class to parent class\n",
    "    def __forward__(self,input):\n",
    "        "
   ]
  }
 ],
 "metadata": {
  "kernelspec": {
   "display_name": "Python 3",
   "language": "python",
   "name": "python3"
  },
  "language_info": {
   "codemirror_mode": {
    "name": "ipython",
    "version": 3
   },
   "file_extension": ".py",
   "mimetype": "text/x-python",
   "name": "python",
   "nbconvert_exporter": "python",
   "pygments_lexer": "ipython3",
   "version": "3.7.1"
  }
 },
 "nbformat": 4,
 "nbformat_minor": 2
}
