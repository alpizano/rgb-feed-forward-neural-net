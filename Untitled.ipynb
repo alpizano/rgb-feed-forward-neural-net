{
 "cells": [
  {
   "cell_type": "code",
   "execution_count": 17,
   "metadata": {},
   "outputs": [],
   "source": [
    "import torch\n",
    "import numpy as np\n",
    "import matplotlib.pyplot as plt\n"
   ]
  },
  {
   "cell_type": "code",
   "execution_count": 23,
   "metadata": {},
   "outputs": [
    {
     "name": "stdout",
     "output_type": "stream",
     "text": [
      "tensor([0.3239, 0.7544, 0.9622, 0.2825, 0.0186, 0.2737, 0.0954, 0.4138, 0.6857,\n",
      "        0.7151])\n",
      "tensor([0.5036, 0.5831, 0.1441, 0.6812, 0.2961, 0.3635, 0.9057, 0.5475, 0.5760,\n",
      "        0.6837])\n",
      "tensor([0.3681, 0.1709, 0.8635, 0.5511, 0.7457, 0.5278, 0.9042, 0.4051, 0.8503,\n",
      "        0.5276])\n"
     ]
    },
    {
     "data": {
      "text/plain": [
       "<matplotlib.image.AxesImage at 0x1f2269090b8>"
      ]
     },
     "execution_count": 23,
     "metadata": {},
     "output_type": "execute_result"
    },
    {
     "data": {
      "image/png": "[encoded data removed]",
      "text/plain": [
       "<Figure size 432x288 with 1 Axes>"
      ]
     },
     "metadata": {
      "needs_background": "light"
     },
     "output_type": "display_data"
    }
   ],
   "source": [
    "# m x n matrices, m = rows n = cols\n",
    "\n",
    "r = torch.rand(10)\n",
    "g = torch.rand(10)\n",
    "b = torch.rand(10)\n",
    "\n",
    "test1 = np.zeros((32,32,3))\n",
    "test2 = np.random.rand(32,32,3)\n",
    "\n",
    "print (r)\n",
    "print (g)\n",
    "print (b)\n",
    "#print (test1)\n",
    "#print (test2)\n",
    "\n",
    "plt.imshow(test1)\n"
   ]
  },
  {
   "cell_type": "code",
   "execution_count": 24,
   "metadata": {},
   "outputs": [
    {
     "data": {
      "text/plain": [
       "<matplotlib.image.AxesImage at 0x1f22695fd30>"
      ]
     },
     "execution_count": 24,
     "metadata": {},
     "output_type": "execute_result"
    },
    {
     "data": {
      "image/png": "[encoded data removed]",
      "text/plain": [
       "<Figure size 432x288 with 1 Axes>"
      ]
     },
     "metadata": {
      "needs_background": "light"
     },
     "output_type": "display_data"
    }
   ],
   "source": [
    "plt.imshow(test2)"
   ]
  },
  {
   "cell_type": "code",
   "execution_count": 33,
   "metadata": {},
   "outputs": [
    {
     "name": "stderr",
     "output_type": "stream",
     "text": [
      "Clipping input data to the valid range for imshow with RGB data ([0..1] for floats or [0..255] for integers).\n"
     ]
    },
    {
     "data": {
      "text/plain": [
       "<matplotlib.image.AxesImage at 0x1f226c06fd0>"
      ]
     },
     "execution_count": 33,
     "metadata": {},
     "output_type": "execute_result"
    },
    {
     "data": {
      "image/png": "[encoded data removed]",
      "text/plain": [
       "<Figure size 432x288 with 1 Axes>"
      ]
     },
     "metadata": {
      "needs_background": "light"
     },
     "output_type": "display_data"
    }
   ],
   "source": [
    "test2_shape = test2.shape\n",
    "\n",
    "#for i in range(test2_shape[0]):\n",
    "    #for j in range(test2_shape[1]):\n",
    "        #test2[i,j] = 0\n",
    "        \n",
    "for i in range(test2_shape[0]):\n",
    "    for j in range(test2_shape[1]):\n",
    "            test2[i,j,0] = 0\n",
    "            test2[i,j,1] = 0\n",
    "            test2[i,j,2] = 255\n",
    "            \n",
    "plt.imshow(test2)\n",
    "        "
   ]
  },
  {
   "cell_type": "code",
   "execution_count": 21,
   "metadata": {},
   "outputs": [],
   "source": [
    "#class Net(nn.Module): # nn.Module is the parent class\n",
    "    #def __init__(self,input_size,hidden_size,output_size):\n",
    "        #super(Net,self).__init__() # super used to pass arguemtns of child class to parent class\n",
    "    #def __forward__(self,input):\n",
    "        "
   ]
  },
  {
   "cell_type": "code",
   "execution_count": null,
   "metadata": {},
   "outputs": [],
   "source": []
  },
  {
   "cell_type": "code",
   "execution_count": null,
   "metadata": {},
   "outputs": [],
   "source": []
  }
 ],
 "metadata": {
  "kernelspec": {
   "display_name": "Python 3",
   "language": "python",
   "name": "python3"
  },
  "language_info": {
   "codemirror_mode": {
    "name": "ipython",
    "version": 3
   },
   "file_extension": ".py",
   "mimetype": "text/x-python",
   "name": "python",
   "nbconvert_exporter": "python",
   "pygments_lexer": "ipython3",
   "version": "3.7.1"
  }
 },
 "nbformat": 4,
 "nbformat_minor": 2
}
