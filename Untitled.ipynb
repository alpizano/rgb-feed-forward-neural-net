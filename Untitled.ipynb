{
 "cells": [
  {
   "cell_type": "code",
   "execution_count": 17,
   "metadata": {},
   "outputs": [],
   "source": [
    "import torch\n",
    "import numpy as np\n",
    "import matplotlib.pyplot as plt\n"
   ]
  },
  {
   "cell_type": "code",
   "execution_count": 20,
   "metadata": {},
   "outputs": [
    {
     "name": "stdout",
     "output_type": "stream",
     "text": [
      "tensor([0.0745, 0.0167, 0.4442, 0.7463, 0.7831, 0.2623, 0.6144, 0.4626, 0.2082,\n",
      "        0.4648])\n",
      "tensor([0.7281, 0.4842, 0.1515, 0.0892, 0.2773, 0.8098, 0.5550, 0.2745, 0.7364,\n",
      "        0.1204])\n",
      "tensor([0.3517, 0.9401, 0.6757, 0.2219, 0.6250, 0.4556, 0.1480, 0.7150, 0.6890,\n",
      "        0.6842])\n",
      "[[[0. 0. 0.]\n",
      "  [0. 0. 0.]\n",
      "  [0. 0. 0.]\n",
      "  ...\n",
      "  [0. 0. 0.]\n",
      "  [0. 0. 0.]\n",
      "  [0. 0. 0.]]\n",
      "\n",
      " [[0. 0. 0.]\n",
      "  [0. 0. 0.]\n",
      "  [0. 0. 0.]\n",
      "  ...\n",
      "  [0. 0. 0.]\n",
      "  [0. 0. 0.]\n",
      "  [0. 0. 0.]]\n",
      "\n",
      " [[0. 0. 0.]\n",
      "  [0. 0. 0.]\n",
      "  [0. 0. 0.]\n",
      "  ...\n",
      "  [0. 0. 0.]\n",
      "  [0. 0. 0.]\n",
      "  [0. 0. 0.]]\n",
      "\n",
      " ...\n",
      "\n",
      " [[0. 0. 0.]\n",
      "  [0. 0. 0.]\n",
      "  [0. 0. 0.]\n",
      "  ...\n",
      "  [0. 0. 0.]\n",
      "  [0. 0. 0.]\n",
      "  [0. 0. 0.]]\n",
      "\n",
      " [[0. 0. 0.]\n",
      "  [0. 0. 0.]\n",
      "  [0. 0. 0.]\n",
      "  ...\n",
      "  [0. 0. 0.]\n",
      "  [0. 0. 0.]\n",
      "  [0. 0. 0.]]\n",
      "\n",
      " [[0. 0. 0.]\n",
      "  [0. 0. 0.]\n",
      "  [0. 0. 0.]\n",
      "  ...\n",
      "  [0. 0. 0.]\n",
      "  [0. 0. 0.]\n",
      "  [0. 0. 0.]]]\n",
      "[[[0.878402   0.11121077 0.31580464]\n",
      "  [0.24264568 0.92739392 0.38210503]\n",
      "  [0.31625978 0.98370621 0.3176481 ]\n",
      "  ...\n",
      "  [0.11038747 0.78466047 0.97164669]\n",
      "  [0.66608709 0.76332253 0.38819064]\n",
      "  [0.32163143 0.21149929 0.58049851]]\n",
      "\n",
      " [[0.42180748 0.49546206 0.30828502]\n",
      "  [0.06131971 0.59984577 0.24634761]\n",
      "  [0.35452755 0.43631695 0.03360352]\n",
      "  ...\n",
      "  [0.60601555 0.10238197 0.2587373 ]\n",
      "  [0.49689448 0.73051599 0.4757583 ]\n",
      "  [0.4888565  0.92798418 0.33182303]]\n",
      "\n",
      " [[0.58070996 0.38863272 0.19288058]\n",
      "  [0.83718037 0.52216026 0.16513033]\n",
      "  [0.90699415 0.19272169 0.62318321]\n",
      "  ...\n",
      "  [0.66963161 0.68577794 0.65872509]\n",
      "  [0.7465878  0.89613571 0.43390591]\n",
      "  [0.59138378 0.95550337 0.46969573]]\n",
      "\n",
      " ...\n",
      "\n",
      " [[0.49943751 0.5945537  0.93032957]\n",
      "  [0.06995151 0.43672607 0.10673316]\n",
      "  [0.36971115 0.49214458 0.94138734]\n",
      "  ...\n",
      "  [0.85461426 0.36556953 0.70303472]\n",
      "  [0.81689032 0.9267707  0.27169286]\n",
      "  [0.8471497  0.42022145 0.64593817]]\n",
      "\n",
      " [[0.42146369 0.98163461 0.70285346]\n",
      "  [0.58720622 0.20406298 0.31098178]\n",
      "  [0.37196449 0.32414722 0.09187866]\n",
      "  ...\n",
      "  [0.31135125 0.42405079 0.61366839]\n",
      "  [0.15999845 0.28958297 0.05270073]\n",
      "  [0.12984828 0.97702168 0.79104837]]\n",
      "\n",
      " [[0.04700043 0.06602343 0.5380885 ]\n",
      "  [0.89635314 0.16677854 0.13085135]\n",
      "  [0.08559711 0.71321889 0.50216399]\n",
      "  ...\n",
      "  [0.48384044 0.84982408 0.0142669 ]\n",
      "  [0.67330642 0.3383202  0.91501341]\n",
      "  [0.79276849 0.01740627 0.54265304]]]\n"
     ]
    },
    {
     "data": {
      "text/plain": [
       "<matplotlib.image.AxesImage at 0x1f2258182e8>"
      ]
     },
     "execution_count": 20,
     "metadata": {},
     "output_type": "execute_result"
    },
    {
     "data": {
      "image/png": "[encoded data removed]",
      "text/plain": [
       "<Figure size 432x288 with 1 Axes>"
      ]
     },
     "metadata": {
      "needs_background": "light"
     },
     "output_type": "display_data"
    }
   ],
   "source": [
    "# m x n matrices, m = rows n = cols\n",
    "\n",
    "r = torch.rand(10)\n",
    "g = torch.rand(10)\n",
    "b = torch.rand(10)\n",
    "\n",
    "test1 = np.zeros((32,32,3))\n",
    "test2 = np.random.rand(32,32,3)\n",
    "\n",
    "print (r)\n",
    "print (g)\n",
    "print (b)\n",
    "print (test1)\n",
    "print (test2)\n",
    "\n",
    "plt.imshow(test1)\n",
    "plt.imshow(test2)"
   ]
  },
  {
   "cell_type": "code",
   "execution_count": 13,
   "metadata": {},
   "outputs": [],
   "source": [
    "#class Net(nn.Module): # nn.Module is the parent class\n",
    "    #def __init__(self,input_size,hidden_size,output_size):\n",
    "        #super(Net,self).__init__() # super used to pass arguemtns of child class to parent class\n",
    "    #def __forward__(self,input):\n",
    "        "
   ]
  },
  {
   "cell_type": "code",
   "execution_count": null,
   "metadata": {},
   "outputs": [],
   "source": []
  },
  {
   "cell_type": "code",
   "execution_count": null,
   "metadata": {},
   "outputs": [],
   "source": []
  }
 ],
 "metadata": {
  "kernelspec": {
   "display_name": "Python 3",
   "language": "python",
   "name": "python3"
  },
  "language_info": {
   "codemirror_mode": {
    "name": "ipython",
    "version": 3
   },
   "file_extension": ".py",
   "mimetype": "text/x-python",
   "name": "python",
   "nbconvert_exporter": "python",
   "pygments_lexer": "ipython3",
   "version": "3.7.1"
  }
 },
 "nbformat": 4,
 "nbformat_minor": 2
}
